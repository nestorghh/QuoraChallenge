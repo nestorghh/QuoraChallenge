{
 "cells": [
  {
   "cell_type": "markdown",
   "metadata": {},
   "source": [
    "# Quora Data Challenge\n",
    "\n",
    "Suppose you are a Data Scientist on the Mobile team at Quora. The team has just introduced \n",
    "a new UI design to the Quora app. The goal of the new design is to increase user engagement \n",
    "(measured by minutes spent on site). The team ran an A/B test to evaluate the change. \n",
    "Using the data, help the team understand the impact of the UI change better."
   ]
  },
  {
   "cell_type": "code",
   "execution_count": 1,
   "metadata": {},
   "outputs": [],
   "source": [
    "import pandas as pd\n",
    "import datetime\n",
    "import matplotlib.pyplot as plt\n",
    "import seaborn as sns"
   ]
  },
  {
   "cell_type": "code",
   "execution_count": 7,
   "metadata": {},
   "outputs": [
    {
     "name": "stdout",
     "output_type": "stream",
     "text": [
      "the number of records is  (1066402, 3)\n"
     ]
    },
    {
     "data": {
      "text/plain": [
       "count    1.066402e+06\n",
       "mean     3.616809e+01\n",
       "std      1.270484e+03\n",
       "min      1.000000e+00\n",
       "25%      2.000000e+00\n",
       "50%      5.000000e+00\n",
       "75%      1.700000e+01\n",
       "max      9.999900e+04\n",
       "Name: active_mins, dtype: float64"
      ]
     },
     "execution_count": 7,
     "metadata": {},
     "output_type": "execute_result"
    }
   ],
   "source": [
    "#take a look at different tables\n",
    "#This table contains active minutes data logged after experiment started.\n",
    "#Each row represents the total number of minutes spent on site for each user on a date.\n",
    "#If a user never visited the site for a given date, there wouldn't be data for that uid on that date.\n",
    "t1 = pd.read_csv(\"t1_user_active_min.csv\")\n",
    "print(\"the number of records is \",t1.shape)\n",
    "t1.head()\n",
    "t1['active_mins'].describe()\n"
   ]
  },
  {
   "cell_type": "code",
   "execution_count": 49,
   "metadata": {},
   "outputs": [
    {
     "data": {
      "text/plain": [
       "46525"
      ]
     },
     "execution_count": 49,
     "metadata": {},
     "output_type": "execute_result"
    }
   ],
   "source": [
    "len(t1.uid.unique())"
   ]
  },
  {
   "cell_type": "code",
   "execution_count": 10,
   "metadata": {},
   "outputs": [
    {
     "data": {
      "text/plain": [
       "(1066230, 3)"
      ]
     },
     "execution_count": 10,
     "metadata": {},
     "output_type": "execute_result"
    }
   ],
   "source": [
    "# By definition, a user cannot be more than 24*60 minutes using quora on a given day. \n",
    "# I assume these are some hard_coded value that has some meaning,e.g., for some reason,\n",
    "# Quora could not capture the number of minutes on the given day.\n",
    "t1[(t1.active_mins > (24*60))]\n",
    "# We have 172 records where active_mins >1440 which contradicts the metrics definition.\n",
    "# I will filter them out.\n",
    "t1 = t1[(t1.active_mins<=1440)]\n",
    "t1.shape"
   ]
  },
  {
   "cell_type": "code",
   "execution_count": 12,
   "metadata": {
    "scrolled": true
   },
   "outputs": [
    {
     "data": {
      "text/plain": [
       "count    1.066230e+06\n",
       "mean     2.004248e+01\n",
       "std      4.653763e+01\n",
       "min      1.000000e+00\n",
       "25%      2.000000e+00\n",
       "50%      5.000000e+00\n",
       "75%      1.700000e+01\n",
       "max      8.970000e+02\n",
       "Name: active_mins, dtype: float64"
      ]
     },
     "execution_count": 12,
     "metadata": {},
     "output_type": "execute_result"
    },
    {
     "data": {
      "image/png": "[encoded data removed]",
      "text/plain": [
       "<Figure size 432x288 with 1 Axes>"
      ]
     },
     "metadata": {
      "needs_background": "light"
     },
     "output_type": "display_data"
    }
   ],
   "source": [
    "%matplotlib inline \n",
    "t1['active_mins'].plot.hist()\n",
    "t1['active_mins'].describe()"
   ]
  },
  {
   "cell_type": "code",
   "execution_count": 13,
   "metadata": {},
   "outputs": [
    {
     "data": {
      "text/plain": [
       "<matplotlib.axes._subplots.AxesSubplot at 0x7fc66beb1b00>"
      ]
     },
     "execution_count": 13,
     "metadata": {},
     "output_type": "execute_result"
    },
    {
     "data": {
      "image/png": "[encoded data removed]",
      "text/plain": [
       "<Figure size 432x288 with 1 Axes>"
      ]
     },
     "metadata": {
      "needs_background": "light"
     },
     "output_type": "display_data"
    }
   ],
   "source": [
    "sns.boxplot(x=t1['active_mins'])\n",
    "# we still observe some outliers. I will explore the possibility of filtering the out."
   ]
  },
  {
   "cell_type": "code",
   "execution_count": 15,
   "metadata": {},
   "outputs": [
    {
     "data": {
      "text/plain": [
       "<matplotlib.axes._subplots.AxesSubplot at 0x7fc66be7f390>"
      ]
     },
     "execution_count": 15,
     "metadata": {},
     "output_type": "execute_result"
    },
    {
     "data": {
      "image/png": "[encoded data removed]",
      "text/plain": [
       "<Figure size 432x288 with 1 Axes>"
      ]
     },
     "metadata": {
      "needs_background": "light"
     },
     "output_type": "display_data"
    }
   ],
   "source": [
    "t1=t1[(t1.active_mins<(20+(3*46)))]\n",
    "sns.boxplot(x=t1['active_mins'])"
   ]
  },
  {
   "cell_type": "code",
   "execution_count": 22,
   "metadata": {},
   "outputs": [
    {
     "name": "stdout",
     "output_type": "stream",
     "text": [
      "2.0 9.0\n"
     ]
    },
    {
     "data": {
      "text/plain": [
       "(828130, 3)"
      ]
     },
     "execution_count": 22,
     "metadata": {},
     "output_type": "execute_result"
    }
   ],
   "source": [
    "# compute IQ range to filter outliers\n",
    "q1 = t1['active_mins'].quantile(0.25)\n",
    "q3 = t1['active_mins'].quantile(0.75)\n",
    "print(q1,q3)\n",
    "iqr = q3 - q1\n",
    "cutoff = 1.5*iqr\n",
    "t1 = t1[((t1.active_mins)> q1 - cutoff)]\n",
    "t1 = t1[((t1.active_mins)< q3 + cutoff)]"
   ]
  },
  {
   "cell_type": "code",
   "execution_count": 23,
   "metadata": {},
   "outputs": [
    {
     "data": {
      "text/plain": [
       "<matplotlib.axes._subplots.AxesSubplot at 0x7fc66be015c0>"
      ]
     },
     "execution_count": 23,
     "metadata": {},
     "output_type": "execute_result"
    },
    {
     "data": {
      "image/png": "[encoded data removed]",
      "text/plain": [
       "<Figure size 432x288 with 1 Axes>"
      ]
     },
     "metadata": {
      "needs_background": "light"
     },
     "output_type": "display_data"
    }
   ],
   "source": [
    "t1.shape\n",
    "sns.boxplot(x=t1['active_mins'])"
   ]
  },
  {
   "cell_type": "code",
   "execution_count": 4,
   "metadata": {},
   "outputs": [
    {
     "name": "stdout",
     "output_type": "stream",
     "text": [
      "the number of records is  (50000, 4)\n"
     ]
    },
    {
     "data": {
      "text/html": [
       "<div>\n",
       "<style scoped>\n",
       "    .dataframe tbody tr th:only-of-type {\n",
       "        vertical-align: middle;\n",
       "    }\n",
       "\n",
       "    .dataframe tbody tr th {\n",
       "        vertical-align: top;\n",
       "    }\n",
       "\n",
       "    .dataframe thead th {\n",
       "        text-align: right;\n",
       "    }\n",
       "</style>\n",
       "<table border=\"1\" class=\"dataframe\">\n",
       "  <thead>\n",
       "    <tr style=\"text-align: right;\">\n",
       "      <th></th>\n",
       "      <th>uid</th>\n",
       "      <th>variant_number</th>\n",
       "      <th>dt</th>\n",
       "      <th>signup_date</th>\n",
       "    </tr>\n",
       "  </thead>\n",
       "  <tbody>\n",
       "    <tr>\n",
       "      <th>0</th>\n",
       "      <td>0</td>\n",
       "      <td>0</td>\n",
       "      <td>2019-02-06</td>\n",
       "      <td>2018-09-24</td>\n",
       "    </tr>\n",
       "    <tr>\n",
       "      <th>1</th>\n",
       "      <td>1</td>\n",
       "      <td>0</td>\n",
       "      <td>2019-02-06</td>\n",
       "      <td>2016-11-07</td>\n",
       "    </tr>\n",
       "    <tr>\n",
       "      <th>2</th>\n",
       "      <td>2</td>\n",
       "      <td>0</td>\n",
       "      <td>2019-02-06</td>\n",
       "      <td>2018-09-17</td>\n",
       "    </tr>\n",
       "    <tr>\n",
       "      <th>3</th>\n",
       "      <td>3</td>\n",
       "      <td>0</td>\n",
       "      <td>2019-02-06</td>\n",
       "      <td>2018-03-04</td>\n",
       "    </tr>\n",
       "    <tr>\n",
       "      <th>4</th>\n",
       "      <td>4</td>\n",
       "      <td>0</td>\n",
       "      <td>2019-02-06</td>\n",
       "      <td>2017-03-09</td>\n",
       "    </tr>\n",
       "  </tbody>\n",
       "</table>\n",
       "</div>"
      ],
      "text/plain": [
       "   uid  variant_number          dt signup_date\n",
       "0    0               0  2019-02-06  2018-09-24\n",
       "1    1               0  2019-02-06  2016-11-07\n",
       "2    2               0  2019-02-06  2018-09-17\n",
       "3    3               0  2019-02-06  2018-03-04\n",
       "4    4               0  2019-02-06  2017-03-09"
      ]
     },
     "execution_count": 4,
     "metadata": {},
     "output_type": "execute_result"
    }
   ],
   "source": [
    "#This table contains users’ treatment assignment.\n",
    "#Each row represents the assignment information for a unique user.\n",
    "t2 = pd.read_csv(\"t2_user_variant.csv\")\n",
    "print(\"the number of records is \",t2.shape)\n",
    "t2.head()"
   ]
  },
  {
   "cell_type": "code",
   "execution_count": 26,
   "metadata": {},
   "outputs": [
    {
     "data": {
      "text/plain": [
       "array(['2019-02-06'], dtype=object)"
      ]
     },
     "execution_count": 26,
     "metadata": {},
     "output_type": "execute_result"
    }
   ],
   "source": [
    "# check that we have a unique value for dt.\n",
    "t2.dt.unique()"
   ]
  },
  {
   "cell_type": "code",
   "execution_count": 162,
   "metadata": {},
   "outputs": [
    {
     "data": {
      "text/plain": [
       "0    40000\n",
       "1    10000\n",
       "Name: variant_number, dtype: int64"
      ]
     },
     "execution_count": 162,
     "metadata": {},
     "output_type": "execute_result"
    }
   ],
   "source": [
    "t2.variant_number.value_counts()"
   ]
  },
  {
   "cell_type": "code",
   "execution_count": 24,
   "metadata": {},
   "outputs": [],
   "source": [
    "#join by userid \n",
    "merged_df = pd.merge(left=t1,right=t2, left_on='uid', right_on='uid')"
   ]
  },
  {
   "cell_type": "code",
   "execution_count": 48,
   "metadata": {},
   "outputs": [
    {
     "data": {
      "text/plain": [
       "46525"
      ]
     },
     "execution_count": 48,
     "metadata": {},
     "output_type": "execute_result"
    }
   ],
   "source": [
    "len(merged_df.uid.unique())"
   ]
  },
  {
   "cell_type": "code",
   "execution_count": null,
   "metadata": {},
   "outputs": [],
   "source": [
    "merged_df.shape"
   ]
  },
  {
   "cell_type": "code",
   "execution_count": 42,
   "metadata": {},
   "outputs": [
    {
     "data": {
      "text/html": [
       "<div>\n",
       "<style scoped>\n",
       "    .dataframe tbody tr th:only-of-type {\n",
       "        vertical-align: middle;\n",
       "    }\n",
       "\n",
       "    .dataframe tbody tr th {\n",
       "        vertical-align: top;\n",
       "    }\n",
       "\n",
       "    .dataframe thead th {\n",
       "        text-align: right;\n",
       "    }\n",
       "</style>\n",
       "<table border=\"1\" class=\"dataframe\">\n",
       "  <thead>\n",
       "    <tr style=\"text-align: right;\">\n",
       "      <th></th>\n",
       "      <th>uid</th>\n",
       "      <th>dt_x</th>\n",
       "      <th>active_mins</th>\n",
       "      <th>variant_number</th>\n",
       "      <th>dt_y</th>\n",
       "      <th>signup_date</th>\n",
       "    </tr>\n",
       "  </thead>\n",
       "  <tbody>\n",
       "    <tr>\n",
       "      <th>0</th>\n",
       "      <td>0</td>\n",
       "      <td>2019-02-22</td>\n",
       "      <td>5.0</td>\n",
       "      <td>0</td>\n",
       "      <td>2019-02-06</td>\n",
       "      <td>2018-09-24</td>\n",
       "    </tr>\n",
       "    <tr>\n",
       "      <th>1</th>\n",
       "      <td>0</td>\n",
       "      <td>2019-03-11</td>\n",
       "      <td>5.0</td>\n",
       "      <td>0</td>\n",
       "      <td>2019-02-06</td>\n",
       "      <td>2018-09-24</td>\n",
       "    </tr>\n",
       "    <tr>\n",
       "      <th>2</th>\n",
       "      <td>0</td>\n",
       "      <td>2019-03-18</td>\n",
       "      <td>3.0</td>\n",
       "      <td>0</td>\n",
       "      <td>2019-02-06</td>\n",
       "      <td>2018-09-24</td>\n",
       "    </tr>\n",
       "    <tr>\n",
       "      <th>3</th>\n",
       "      <td>0</td>\n",
       "      <td>2019-03-22</td>\n",
       "      <td>4.0</td>\n",
       "      <td>0</td>\n",
       "      <td>2019-02-06</td>\n",
       "      <td>2018-09-24</td>\n",
       "    </tr>\n",
       "    <tr>\n",
       "      <th>4</th>\n",
       "      <td>0</td>\n",
       "      <td>2019-04-03</td>\n",
       "      <td>9.0</td>\n",
       "      <td>0</td>\n",
       "      <td>2019-02-06</td>\n",
       "      <td>2018-09-24</td>\n",
       "    </tr>\n",
       "    <tr>\n",
       "      <th>5</th>\n",
       "      <td>0</td>\n",
       "      <td>2019-04-06</td>\n",
       "      <td>1.0</td>\n",
       "      <td>0</td>\n",
       "      <td>2019-02-06</td>\n",
       "      <td>2018-09-24</td>\n",
       "    </tr>\n",
       "    <tr>\n",
       "      <th>6</th>\n",
       "      <td>0</td>\n",
       "      <td>2019-04-17</td>\n",
       "      <td>1.0</td>\n",
       "      <td>0</td>\n",
       "      <td>2019-02-06</td>\n",
       "      <td>2018-09-24</td>\n",
       "    </tr>\n",
       "    <tr>\n",
       "      <th>7</th>\n",
       "      <td>0</td>\n",
       "      <td>2019-05-07</td>\n",
       "      <td>3.0</td>\n",
       "      <td>0</td>\n",
       "      <td>2019-02-06</td>\n",
       "      <td>2018-09-24</td>\n",
       "    </tr>\n",
       "    <tr>\n",
       "      <th>8</th>\n",
       "      <td>0</td>\n",
       "      <td>2019-05-14</td>\n",
       "      <td>1.0</td>\n",
       "      <td>0</td>\n",
       "      <td>2019-02-06</td>\n",
       "      <td>2018-09-24</td>\n",
       "    </tr>\n",
       "    <tr>\n",
       "      <th>9</th>\n",
       "      <td>0</td>\n",
       "      <td>2019-05-19</td>\n",
       "      <td>1.0</td>\n",
       "      <td>0</td>\n",
       "      <td>2019-02-06</td>\n",
       "      <td>2018-09-24</td>\n",
       "    </tr>\n",
       "    <tr>\n",
       "      <th>10</th>\n",
       "      <td>0</td>\n",
       "      <td>2019-05-22</td>\n",
       "      <td>3.0</td>\n",
       "      <td>0</td>\n",
       "      <td>2019-02-06</td>\n",
       "      <td>2018-09-24</td>\n",
       "    </tr>\n",
       "    <tr>\n",
       "      <th>11</th>\n",
       "      <td>0</td>\n",
       "      <td>2019-06-14</td>\n",
       "      <td>5.0</td>\n",
       "      <td>0</td>\n",
       "      <td>2019-02-06</td>\n",
       "      <td>2018-09-24</td>\n",
       "    </tr>\n",
       "    <tr>\n",
       "      <th>12</th>\n",
       "      <td>0</td>\n",
       "      <td>2019-06-16</td>\n",
       "      <td>2.0</td>\n",
       "      <td>0</td>\n",
       "      <td>2019-02-06</td>\n",
       "      <td>2018-09-24</td>\n",
       "    </tr>\n",
       "    <tr>\n",
       "      <th>13</th>\n",
       "      <td>1</td>\n",
       "      <td>2019-02-16</td>\n",
       "      <td>13.0</td>\n",
       "      <td>0</td>\n",
       "      <td>2019-02-06</td>\n",
       "      <td>2016-11-07</td>\n",
       "    </tr>\n",
       "    <tr>\n",
       "      <th>14</th>\n",
       "      <td>1</td>\n",
       "      <td>2019-03-17</td>\n",
       "      <td>5.0</td>\n",
       "      <td>0</td>\n",
       "      <td>2019-02-06</td>\n",
       "      <td>2016-11-07</td>\n",
       "    </tr>\n",
       "  </tbody>\n",
       "</table>\n",
       "</div>"
      ],
      "text/plain": [
       "    uid        dt_x  active_mins  variant_number        dt_y signup_date\n",
       "0     0  2019-02-22          5.0               0  2019-02-06  2018-09-24\n",
       "1     0  2019-03-11          5.0               0  2019-02-06  2018-09-24\n",
       "2     0  2019-03-18          3.0               0  2019-02-06  2018-09-24\n",
       "3     0  2019-03-22          4.0               0  2019-02-06  2018-09-24\n",
       "4     0  2019-04-03          9.0               0  2019-02-06  2018-09-24\n",
       "5     0  2019-04-06          1.0               0  2019-02-06  2018-09-24\n",
       "6     0  2019-04-17          1.0               0  2019-02-06  2018-09-24\n",
       "7     0  2019-05-07          3.0               0  2019-02-06  2018-09-24\n",
       "8     0  2019-05-14          1.0               0  2019-02-06  2018-09-24\n",
       "9     0  2019-05-19          1.0               0  2019-02-06  2018-09-24\n",
       "10    0  2019-05-22          3.0               0  2019-02-06  2018-09-24\n",
       "11    0  2019-06-14          5.0               0  2019-02-06  2018-09-24\n",
       "12    0  2019-06-16          2.0               0  2019-02-06  2018-09-24\n",
       "13    1  2019-02-16         13.0               0  2019-02-06  2016-11-07\n",
       "14    1  2019-03-17          5.0               0  2019-02-06  2016-11-07"
      ]
     },
     "execution_count": 42,
     "metadata": {},
     "output_type": "execute_result"
    }
   ],
   "source": [
    "merged_df.head(15)"
   ]
  },
  {
   "cell_type": "code",
   "execution_count": 32,
   "metadata": {},
   "outputs": [
    {
     "data": {
      "text/plain": [
       "1"
      ]
     },
     "execution_count": 32,
     "metadata": {},
     "output_type": "execute_result"
    }
   ],
   "source": [
    "# double check that a user is only in one group\n",
    "aux=merged_df.groupby('uid').variant_number.nunique()\n",
    "max(aux)"
   ]
  },
  {
   "cell_type": "code",
   "execution_count": 38,
   "metadata": {},
   "outputs": [
    {
     "name": "stdout",
     "output_type": "stream",
     "text": [
      "min date is 2019-02-06\n",
      "max date is 2019-07-05\n"
     ]
    }
   ],
   "source": [
    "merged_df.dtypes\n",
    "min_date = min(merged_df['dt_x'])\n",
    "max_date = max(merged_df['dt_x'])\n",
    "print('min date is',min_date)\n",
    "print('max date is',max_date)"
   ]
  },
  {
   "cell_type": "code",
   "execution_count": 40,
   "metadata": {},
   "outputs": [
    {
     "data": {
      "text/plain": [
       "0    693417\n",
       "1    134713\n",
       "Name: variant_number, dtype: int64"
      ]
     },
     "execution_count": 40,
     "metadata": {},
     "output_type": "execute_result"
    }
   ],
   "source": [
    "# count records in each group\n",
    "merged_df.variant_number.value_counts()\n"
   ]
  },
  {
   "cell_type": "code",
   "execution_count": 46,
   "metadata": {},
   "outputs": [
    {
     "data": {
      "text/plain": [
       "0    37362\n",
       "1     9163\n",
       "Name: variant_number, dtype: int64"
      ]
     },
     "execution_count": 46,
     "metadata": {},
     "output_type": "execute_result"
    }
   ],
   "source": [
    "# group by user to compute mean time across all his/her visit.\n",
    "df = merged_df.groupby(['uid','variant_number'], as_index=False)['active_mins'].mean()\n",
    "df.shape # we have 46525 unique users in both groups\n",
    "df.variant_number.value_counts()"
   ]
  },
  {
   "cell_type": "code",
   "execution_count": 53,
   "metadata": {},
   "outputs": [
    {
     "data": {
      "text/html": [
       "<div>\n",
       "<style scoped>\n",
       "    .dataframe tbody tr th:only-of-type {\n",
       "        vertical-align: middle;\n",
       "    }\n",
       "\n",
       "    .dataframe tbody tr th {\n",
       "        vertical-align: top;\n",
       "    }\n",
       "\n",
       "    .dataframe thead th {\n",
       "        text-align: right;\n",
       "    }\n",
       "</style>\n",
       "<table border=\"1\" class=\"dataframe\">\n",
       "  <thead>\n",
       "    <tr style=\"text-align: right;\">\n",
       "      <th></th>\n",
       "      <th>variant_number</th>\n",
       "      <th>active_mins</th>\n",
       "    </tr>\n",
       "  </thead>\n",
       "  <tbody>\n",
       "    <tr>\n",
       "      <th>0</th>\n",
       "      <td>0</td>\n",
       "      <td>4.149859</td>\n",
       "    </tr>\n",
       "    <tr>\n",
       "      <th>1</th>\n",
       "      <td>1</td>\n",
       "      <td>5.291342</td>\n",
       "    </tr>\n",
       "  </tbody>\n",
       "</table>\n",
       "</div>"
      ],
      "text/plain": [
       "   variant_number  active_mins\n",
       "0               0     4.149859\n",
       "1               1     5.291342"
      ]
     },
     "execution_count": 53,
     "metadata": {},
     "output_type": "execute_result"
    }
   ],
   "source": [
    "df.head(10)\n",
    "df.groupby('variant_number', as_index=False)['active_mins'].mean()"
   ]
  },
  {
   "cell_type": "code",
   "execution_count": 51,
   "metadata": {},
   "outputs": [
    {
     "data": {
      "text/plain": [
       "<matplotlib.axes._subplots.AxesSubplot at 0x7fc66bcbd3c8>"
      ]
     },
     "execution_count": 51,
     "metadata": {},
     "output_type": "execute_result"
    },
    {
     "data": {
      "image/png": "[encoded data removed]",
      "text/plain": [
       "<Figure size 432x288 with 1 Axes>"
      ]
     },
     "metadata": {
      "needs_background": "light"
     },
     "output_type": "display_data"
    }
   ],
   "source": [
    "%matplotlib inline \n",
    "df.boxplot(column='active_mins',by='variant_number')"
   ]
  },
  {
   "cell_type": "code",
   "execution_count": 58,
   "metadata": {},
   "outputs": [
    {
     "data": {
      "text/html": [
       "<div>\n",
       "<style scoped>\n",
       "    .dataframe tbody tr th:only-of-type {\n",
       "        vertical-align: middle;\n",
       "    }\n",
       "\n",
       "    .dataframe tbody tr th {\n",
       "        vertical-align: top;\n",
       "    }\n",
       "\n",
       "    .dataframe thead th {\n",
       "        text-align: right;\n",
       "    }\n",
       "</style>\n",
       "<table border=\"1\" class=\"dataframe\">\n",
       "  <thead>\n",
       "    <tr style=\"text-align: right;\">\n",
       "      <th></th>\n",
       "      <th>mean</th>\n",
       "      <th>count</th>\n",
       "      <th>std</th>\n",
       "      <th>var</th>\n",
       "    </tr>\n",
       "    <tr>\n",
       "      <th>variant_number</th>\n",
       "      <th></th>\n",
       "      <th></th>\n",
       "      <th></th>\n",
       "      <th></th>\n",
       "    </tr>\n",
       "  </thead>\n",
       "  <tbody>\n",
       "    <tr>\n",
       "      <th>0</th>\n",
       "      <td>4.149859</td>\n",
       "      <td>37362</td>\n",
       "      <td>2.40873</td>\n",
       "      <td>5.801981</td>\n",
       "    </tr>\n",
       "    <tr>\n",
       "      <th>1</th>\n",
       "      <td>5.291342</td>\n",
       "      <td>9163</td>\n",
       "      <td>2.34741</td>\n",
       "      <td>5.510334</td>\n",
       "    </tr>\n",
       "  </tbody>\n",
       "</table>\n",
       "</div>"
      ],
      "text/plain": [
       "                    mean  count      std       var\n",
       "variant_number                                    \n",
       "0               4.149859  37362  2.40873  5.801981\n",
       "1               5.291342   9163  2.34741  5.510334"
      ]
     },
     "execution_count": 58,
     "metadata": {},
     "output_type": "execute_result"
    }
   ],
   "source": [
    "# compute confidence interval on difference of means.\n",
    "stats = df.groupby(['variant_number'])['active_mins'].agg(['mean', 'count', 'std','var'])\n",
    "stats\n"
   ]
  },
  {
   "cell_type": "code",
   "execution_count": 60,
   "metadata": {},
   "outputs": [
    {
     "data": {
      "text/plain": [
       "5.80198115819105"
      ]
     },
     "execution_count": 60,
     "metadata": {},
     "output_type": "execute_result"
    }
   ],
   "source": [
    "stats.loc[0]['var']"
   ]
  },
  {
   "cell_type": "code",
   "execution_count": 65,
   "metadata": {},
   "outputs": [
    {
     "name": "stdout",
     "output_type": "stream",
     "text": [
      "[1.08756830375531, 1.1953974370435352]\n"
     ]
    }
   ],
   "source": [
    "import math\n",
    "# estimated standard deviation of the difference between the two means.\n",
    "sigma_dif = math.sqrt((stats.loc[0]['var']/stats.loc[0]['count'])+((stats.loc[1]['var']/stats.loc[1]['count'])))\n",
    "upper = (stats.loc[1]['mean']-stats.loc[0]['mean']) + (1.96 * sigma_dif)\n",
    "lower = (stats.loc[1]['mean']-stats.loc[0]['mean']) - (1.96 * sigma_dif)\n",
    "print([lower,upper])\n"
   ]
  },
  {
   "cell_type": "code",
   "execution_count": 67,
   "metadata": {
    "scrolled": true
   },
   "outputs": [
    {
     "name": "stdout",
     "output_type": "stream",
     "text": [
      "the number of records is  (1190093, 3)\n"
     ]
    },
    {
     "data": {
      "text/html": [
       "<div>\n",
       "<style scoped>\n",
       "    .dataframe tbody tr th:only-of-type {\n",
       "        vertical-align: middle;\n",
       "    }\n",
       "\n",
       "    .dataframe tbody tr th {\n",
       "        vertical-align: top;\n",
       "    }\n",
       "\n",
       "    .dataframe thead th {\n",
       "        text-align: right;\n",
       "    }\n",
       "</style>\n",
       "<table border=\"1\" class=\"dataframe\">\n",
       "  <thead>\n",
       "    <tr style=\"text-align: right;\">\n",
       "      <th></th>\n",
       "      <th>uid</th>\n",
       "      <th>dt</th>\n",
       "      <th>active_mins</th>\n",
       "    </tr>\n",
       "  </thead>\n",
       "  <tbody>\n",
       "    <tr>\n",
       "      <th>0</th>\n",
       "      <td>0</td>\n",
       "      <td>2018-09-24</td>\n",
       "      <td>3.0</td>\n",
       "    </tr>\n",
       "    <tr>\n",
       "      <th>1</th>\n",
       "      <td>0</td>\n",
       "      <td>2018-11-08</td>\n",
       "      <td>4.0</td>\n",
       "    </tr>\n",
       "    <tr>\n",
       "      <th>2</th>\n",
       "      <td>0</td>\n",
       "      <td>2018-11-24</td>\n",
       "      <td>3.0</td>\n",
       "    </tr>\n",
       "    <tr>\n",
       "      <th>3</th>\n",
       "      <td>0</td>\n",
       "      <td>2018-11-28</td>\n",
       "      <td>6.0</td>\n",
       "    </tr>\n",
       "    <tr>\n",
       "      <th>4</th>\n",
       "      <td>0</td>\n",
       "      <td>2018-12-02</td>\n",
       "      <td>6.0</td>\n",
       "    </tr>\n",
       "  </tbody>\n",
       "</table>\n",
       "</div>"
      ],
      "text/plain": [
       "   uid          dt  active_mins\n",
       "0    0  2018-09-24          3.0\n",
       "1    0  2018-11-08          4.0\n",
       "2    0  2018-11-24          3.0\n",
       "3    0  2018-11-28          6.0\n",
       "4    0  2018-12-02          6.0"
      ]
     },
     "execution_count": 67,
     "metadata": {},
     "output_type": "execute_result"
    }
   ],
   "source": [
    "#This table contains active minutes data before the experiment started.\n",
    "#It has a similar format as t1, except the dt range can extend before \n",
    "#the experiment start date.\n",
    "t3 = pd.read_csv(\"t3_user_active_min_pre.csv\")\n",
    "print(\"the number of records is \",t3.shape)\n",
    "t3.head()"
   ]
  },
  {
   "cell_type": "code",
   "execution_count": 70,
   "metadata": {},
   "outputs": [
    {
     "data": {
      "text/plain": [
       "count    1.189927e+06\n",
       "mean     1.825735e+01\n",
       "std      4.354546e+01\n",
       "min      1.000000e+00\n",
       "25%      2.000000e+00\n",
       "50%      4.000000e+00\n",
       "75%      1.400000e+01\n",
       "max      8.970000e+02\n",
       "Name: active_mins, dtype: float64"
      ]
     },
     "execution_count": 70,
     "metadata": {},
     "output_type": "execute_result"
    },
    {
     "data": {
      "image/png": "[encoded data removed]",
      "text/plain": [
       "<Figure size 432x288 with 1 Axes>"
      ]
     },
     "metadata": {
      "needs_background": "light"
     },
     "output_type": "display_data"
    }
   ],
   "source": [
    "t3 = t3[(t3.active_mins<=1440)]\n",
    "%matplotlib inline \n",
    "t3['active_mins'].plot.hist()\n",
    "t3['active_mins'].describe()\n",
    "\n",
    "\n"
   ]
  },
  {
   "cell_type": "code",
   "execution_count": 71,
   "metadata": {},
   "outputs": [
    {
     "data": {
      "text/plain": [
       "<matplotlib.axes._subplots.AxesSubplot at 0x7fc66bc438d0>"
      ]
     },
     "execution_count": 71,
     "metadata": {},
     "output_type": "execute_result"
    },
    {
     "data": {
      "image/png": "[encoded data removed]",
      "text/plain": [
       "<Figure size 432x288 with 1 Axes>"
      ]
     },
     "metadata": {
      "needs_background": "light"
     },
     "output_type": "display_data"
    }
   ],
   "source": [
    "sns.boxplot(x=t3['active_mins'])"
   ]
  },
  {
   "cell_type": "code",
   "execution_count": 74,
   "metadata": {},
   "outputs": [
    {
     "data": {
      "text/plain": [
       "<matplotlib.axes._subplots.AxesSubplot at 0x7fc66bb46d30>"
      ]
     },
     "execution_count": 74,
     "metadata": {},
     "output_type": "execute_result"
    },
    {
     "data": {
      "image/png": "[encoded data removed]",
      "text/plain": [
       "<Figure size 432x288 with 1 Axes>"
      ]
     },
     "metadata": {
      "needs_background": "light"
     },
     "output_type": "display_data"
    }
   ],
   "source": [
    "t3=t3[(t3.active_mins<(18.25+(3*43.54)))]\n",
    "sns.boxplot(x=t3['active_mins'])"
   ]
  },
  {
   "cell_type": "code",
   "execution_count": 75,
   "metadata": {},
   "outputs": [
    {
     "name": "stdout",
     "output_type": "stream",
     "text": [
      "2.0 8.0\n"
     ]
    }
   ],
   "source": [
    "# compute IQ range to filter outliers\n",
    "q1 = t3['active_mins'].quantile(0.25)\n",
    "q3 = t3['active_mins'].quantile(0.75)\n",
    "print(q1,q3)\n",
    "iqr = q3 - q1\n",
    "cutoff = 1.5*iqr\n",
    "t3 = t3[((t3.active_mins)> q1 - cutoff)]\n",
    "t3 = t3[((t3.active_mins)< q3 + cutoff)]"
   ]
  },
  {
   "cell_type": "code",
   "execution_count": 76,
   "metadata": {},
   "outputs": [
    {
     "data": {
      "text/plain": [
       "<matplotlib.axes._subplots.AxesSubplot at 0x7fc66b759390>"
      ]
     },
     "execution_count": 76,
     "metadata": {},
     "output_type": "execute_result"
    },
    {
     "data": {
      "image/png": "[encoded data removed]",
      "text/plain": [
       "<Figure size 432x288 with 1 Axes>"
      ]
     },
     "metadata": {
      "needs_background": "light"
     },
     "output_type": "display_data"
    }
   ],
   "source": [
    "sns.boxplot(x=t3['active_mins'])"
   ]
  },
  {
   "cell_type": "code",
   "execution_count": 80,
   "metadata": {},
   "outputs": [
    {
     "name": "stdout",
     "output_type": "stream",
     "text": [
      "min_date is 2018-08-10\n",
      "max_date is 2019-02-05\n"
     ]
    }
   ],
   "source": [
    "#check the dates of dataframe\n",
    "min_date = min(t3['dt'])\n",
    "max_date = max(t3['dt'])\n",
    "print('min_date is',min_date)\n",
    "print('max_date is',max_date)"
   ]
  },
  {
   "cell_type": "code",
   "execution_count": 81,
   "metadata": {},
   "outputs": [],
   "source": [
    "merged_df2 = pd.merge(left=t3,right=t2, left_on='uid', right_on='uid')"
   ]
  },
  {
   "cell_type": "code",
   "execution_count": 82,
   "metadata": {},
   "outputs": [
    {
     "data": {
      "text/html": [
       "<div>\n",
       "<style scoped>\n",
       "    .dataframe tbody tr th:only-of-type {\n",
       "        vertical-align: middle;\n",
       "    }\n",
       "\n",
       "    .dataframe tbody tr th {\n",
       "        vertical-align: top;\n",
       "    }\n",
       "\n",
       "    .dataframe thead th {\n",
       "        text-align: right;\n",
       "    }\n",
       "</style>\n",
       "<table border=\"1\" class=\"dataframe\">\n",
       "  <thead>\n",
       "    <tr style=\"text-align: right;\">\n",
       "      <th></th>\n",
       "      <th>uid</th>\n",
       "      <th>dt_x</th>\n",
       "      <th>active_mins</th>\n",
       "      <th>variant_number</th>\n",
       "      <th>dt_y</th>\n",
       "      <th>signup_date</th>\n",
       "    </tr>\n",
       "  </thead>\n",
       "  <tbody>\n",
       "    <tr>\n",
       "      <th>0</th>\n",
       "      <td>0</td>\n",
       "      <td>2018-09-24</td>\n",
       "      <td>3.0</td>\n",
       "      <td>0</td>\n",
       "      <td>2019-02-06</td>\n",
       "      <td>2018-09-24</td>\n",
       "    </tr>\n",
       "    <tr>\n",
       "      <th>1</th>\n",
       "      <td>0</td>\n",
       "      <td>2018-11-08</td>\n",
       "      <td>4.0</td>\n",
       "      <td>0</td>\n",
       "      <td>2019-02-06</td>\n",
       "      <td>2018-09-24</td>\n",
       "    </tr>\n",
       "    <tr>\n",
       "      <th>2</th>\n",
       "      <td>0</td>\n",
       "      <td>2018-11-24</td>\n",
       "      <td>3.0</td>\n",
       "      <td>0</td>\n",
       "      <td>2019-02-06</td>\n",
       "      <td>2018-09-24</td>\n",
       "    </tr>\n",
       "    <tr>\n",
       "      <th>3</th>\n",
       "      <td>0</td>\n",
       "      <td>2018-11-28</td>\n",
       "      <td>6.0</td>\n",
       "      <td>0</td>\n",
       "      <td>2019-02-06</td>\n",
       "      <td>2018-09-24</td>\n",
       "    </tr>\n",
       "    <tr>\n",
       "      <th>4</th>\n",
       "      <td>0</td>\n",
       "      <td>2018-12-02</td>\n",
       "      <td>6.0</td>\n",
       "      <td>0</td>\n",
       "      <td>2019-02-06</td>\n",
       "      <td>2018-09-24</td>\n",
       "    </tr>\n",
       "    <tr>\n",
       "      <th>5</th>\n",
       "      <td>0</td>\n",
       "      <td>2018-12-04</td>\n",
       "      <td>1.0</td>\n",
       "      <td>0</td>\n",
       "      <td>2019-02-06</td>\n",
       "      <td>2018-09-24</td>\n",
       "    </tr>\n",
       "    <tr>\n",
       "      <th>6</th>\n",
       "      <td>0</td>\n",
       "      <td>2018-12-07</td>\n",
       "      <td>8.0</td>\n",
       "      <td>0</td>\n",
       "      <td>2019-02-06</td>\n",
       "      <td>2018-09-24</td>\n",
       "    </tr>\n",
       "    <tr>\n",
       "      <th>7</th>\n",
       "      <td>0</td>\n",
       "      <td>2018-12-09</td>\n",
       "      <td>5.0</td>\n",
       "      <td>0</td>\n",
       "      <td>2019-02-06</td>\n",
       "      <td>2018-09-24</td>\n",
       "    </tr>\n",
       "    <tr>\n",
       "      <th>8</th>\n",
       "      <td>0</td>\n",
       "      <td>2018-12-14</td>\n",
       "      <td>8.0</td>\n",
       "      <td>0</td>\n",
       "      <td>2019-02-06</td>\n",
       "      <td>2018-09-24</td>\n",
       "    </tr>\n",
       "    <tr>\n",
       "      <th>9</th>\n",
       "      <td>0</td>\n",
       "      <td>2018-12-15</td>\n",
       "      <td>2.0</td>\n",
       "      <td>0</td>\n",
       "      <td>2019-02-06</td>\n",
       "      <td>2018-09-24</td>\n",
       "    </tr>\n",
       "  </tbody>\n",
       "</table>\n",
       "</div>"
      ],
      "text/plain": [
       "   uid        dt_x  active_mins  variant_number        dt_y signup_date\n",
       "0    0  2018-09-24          3.0               0  2019-02-06  2018-09-24\n",
       "1    0  2018-11-08          4.0               0  2019-02-06  2018-09-24\n",
       "2    0  2018-11-24          3.0               0  2019-02-06  2018-09-24\n",
       "3    0  2018-11-28          6.0               0  2019-02-06  2018-09-24\n",
       "4    0  2018-12-02          6.0               0  2019-02-06  2018-09-24\n",
       "5    0  2018-12-04          1.0               0  2019-02-06  2018-09-24\n",
       "6    0  2018-12-07          8.0               0  2019-02-06  2018-09-24\n",
       "7    0  2018-12-09          5.0               0  2019-02-06  2018-09-24\n",
       "8    0  2018-12-14          8.0               0  2019-02-06  2018-09-24\n",
       "9    0  2018-12-15          2.0               0  2019-02-06  2018-09-24"
      ]
     },
     "execution_count": 82,
     "metadata": {},
     "output_type": "execute_result"
    }
   ],
   "source": [
    "merged_df2.head(10)"
   ]
  },
  {
   "cell_type": "code",
   "execution_count": 84,
   "metadata": {},
   "outputs": [
    {
     "data": {
      "text/plain": [
       "0    754497\n",
       "1    164195\n",
       "Name: variant_number, dtype: int64"
      ]
     },
     "execution_count": 84,
     "metadata": {},
     "output_type": "execute_result"
    }
   ],
   "source": [
    "merged_df2.variant_number.unique()\n",
    "merged_df2.variant_number.value_counts()"
   ]
  },
  {
   "cell_type": "code",
   "execution_count": 85,
   "metadata": {},
   "outputs": [
    {
     "data": {
      "text/html": [
       "<div>\n",
       "<style scoped>\n",
       "    .dataframe tbody tr th:only-of-type {\n",
       "        vertical-align: middle;\n",
       "    }\n",
       "\n",
       "    .dataframe tbody tr th {\n",
       "        vertical-align: top;\n",
       "    }\n",
       "\n",
       "    .dataframe thead th {\n",
       "        text-align: right;\n",
       "    }\n",
       "</style>\n",
       "<table border=\"1\" class=\"dataframe\">\n",
       "  <thead>\n",
       "    <tr style=\"text-align: right;\">\n",
       "      <th></th>\n",
       "      <th>uid</th>\n",
       "      <th>variant_number</th>\n",
       "      <th>active_mins</th>\n",
       "    </tr>\n",
       "  </thead>\n",
       "  <tbody>\n",
       "    <tr>\n",
       "      <th>0</th>\n",
       "      <td>0</td>\n",
       "      <td>0</td>\n",
       "      <td>3.333333</td>\n",
       "    </tr>\n",
       "    <tr>\n",
       "      <th>1</th>\n",
       "      <td>1</td>\n",
       "      <td>0</td>\n",
       "      <td>11.333333</td>\n",
       "    </tr>\n",
       "    <tr>\n",
       "      <th>2</th>\n",
       "      <td>2</td>\n",
       "      <td>0</td>\n",
       "      <td>3.700000</td>\n",
       "    </tr>\n",
       "    <tr>\n",
       "      <th>3</th>\n",
       "      <td>3</td>\n",
       "      <td>0</td>\n",
       "      <td>3.833333</td>\n",
       "    </tr>\n",
       "    <tr>\n",
       "      <th>4</th>\n",
       "      <td>4</td>\n",
       "      <td>0</td>\n",
       "      <td>2.357143</td>\n",
       "    </tr>\n",
       "  </tbody>\n",
       "</table>\n",
       "</div>"
      ],
      "text/plain": [
       "   uid  variant_number  active_mins\n",
       "0    0               0     3.333333\n",
       "1    1               0    11.333333\n",
       "2    2               0     3.700000\n",
       "3    3               0     3.833333\n",
       "4    4               0     2.357143"
      ]
     },
     "execution_count": 85,
     "metadata": {},
     "output_type": "execute_result"
    }
   ],
   "source": [
    "df2 = merged_df2.groupby(['uid','variant_number'], as_index=False)['active_mins'].mean()\n",
    "df2.head()"
   ]
  },
  {
   "cell_type": "code",
   "execution_count": 99,
   "metadata": {},
   "outputs": [
    {
     "name": "stdout",
     "output_type": "stream",
     "text": [
      "9163\n"
     ]
    }
   ],
   "source": [
    "# mean before is computed based on all the users before the beginning of the experiment\n",
    "mean_before = df2['active_mins'].mean()\n",
    "var_before = df2['active_mins'].var()\n",
    "n_before = df2.shape[0]\n",
    "\n",
    "#compute the mean after rollout but only for users under treatment\n",
    "mean_after = df[df.variant_number==1]['active_mins'].mean()\n",
    "var_after = df[df.variant_number==1]['active_mins'].var()\n",
    "n_after = df[df.variant_number==1].shape[0]\n",
    "\n",
    "print(n_after)\n",
    "\n",
    "#print('mean before',mean_before)\n",
    "#print('mean after',mean_after)\n",
    " "
   ]
  },
  {
   "cell_type": "code",
   "execution_count": 101,
   "metadata": {},
   "outputs": [
    {
     "name": "stdout",
     "output_type": "stream",
     "text": [
      "[1.2698277548728634, 1.372264409083204]\n"
     ]
    }
   ],
   "source": [
    "# estimated standard deviation of the difference between the two means.\n",
    "sigma_dif = math.sqrt((var_before/n_before)+(var_after/n_after))\n",
    "upper = (mean_after-mean_before) + (1.96 * sigma_dif)\n",
    "lower = (mean_after-mean_before) - (1.96 * sigma_dif)\n",
    "print([lower,upper])\n"
   ]
  },
  {
   "cell_type": "code",
   "execution_count": 103,
   "metadata": {},
   "outputs": [
    {
     "name": "stdout",
     "output_type": "stream",
     "text": [
      "the number of records is  (50000, 3)\n"
     ]
    },
    {
     "data": {
      "text/html": [
       "<div>\n",
       "<style scoped>\n",
       "    .dataframe tbody tr th:only-of-type {\n",
       "        vertical-align: middle;\n",
       "    }\n",
       "\n",
       "    .dataframe tbody tr th {\n",
       "        vertical-align: top;\n",
       "    }\n",
       "\n",
       "    .dataframe thead th {\n",
       "        text-align: right;\n",
       "    }\n",
       "</style>\n",
       "<table border=\"1\" class=\"dataframe\">\n",
       "  <thead>\n",
       "    <tr style=\"text-align: right;\">\n",
       "      <th></th>\n",
       "      <th>uid</th>\n",
       "      <th>gender</th>\n",
       "      <th>user_type</th>\n",
       "    </tr>\n",
       "  </thead>\n",
       "  <tbody>\n",
       "    <tr>\n",
       "      <th>0</th>\n",
       "      <td>0</td>\n",
       "      <td>male</td>\n",
       "      <td>non_reader</td>\n",
       "    </tr>\n",
       "    <tr>\n",
       "      <th>1</th>\n",
       "      <td>1</td>\n",
       "      <td>male</td>\n",
       "      <td>reader</td>\n",
       "    </tr>\n",
       "    <tr>\n",
       "      <th>2</th>\n",
       "      <td>2</td>\n",
       "      <td>male</td>\n",
       "      <td>non_reader</td>\n",
       "    </tr>\n",
       "    <tr>\n",
       "      <th>3</th>\n",
       "      <td>3</td>\n",
       "      <td>male</td>\n",
       "      <td>non_reader</td>\n",
       "    </tr>\n",
       "    <tr>\n",
       "      <th>4</th>\n",
       "      <td>4</td>\n",
       "      <td>male</td>\n",
       "      <td>non_reader</td>\n",
       "    </tr>\n",
       "  </tbody>\n",
       "</table>\n",
       "</div>"
      ],
      "text/plain": [
       "   uid gender   user_type\n",
       "0    0   male  non_reader\n",
       "1    1   male      reader\n",
       "2    2   male  non_reader\n",
       "3    3   male  non_reader\n",
       "4    4   male  non_reader"
      ]
     },
     "execution_count": 103,
     "metadata": {},
     "output_type": "execute_result"
    }
   ],
   "source": [
    "#This table contains data about some user attributes.\n",
    "#Each row represents attributes of a unique user.\n",
    "t4 = pd.read_csv(\"t4_user_attributes.csv\")\n",
    "print(\"the number of records is \",t4.shape)\n",
    "t4.head()"
   ]
  },
  {
   "cell_type": "code",
   "execution_count": 104,
   "metadata": {},
   "outputs": [
    {
     "data": {
      "text/html": [
       "<div>\n",
       "<style scoped>\n",
       "    .dataframe tbody tr th:only-of-type {\n",
       "        vertical-align: middle;\n",
       "    }\n",
       "\n",
       "    .dataframe tbody tr th {\n",
       "        vertical-align: top;\n",
       "    }\n",
       "\n",
       "    .dataframe thead th {\n",
       "        text-align: right;\n",
       "    }\n",
       "</style>\n",
       "<table border=\"1\" class=\"dataframe\">\n",
       "  <thead>\n",
       "    <tr style=\"text-align: right;\">\n",
       "      <th></th>\n",
       "      <th>uid</th>\n",
       "      <th>gender</th>\n",
       "      <th>user_type</th>\n",
       "      <th>variant_number</th>\n",
       "      <th>dt</th>\n",
       "      <th>signup_date</th>\n",
       "    </tr>\n",
       "  </thead>\n",
       "  <tbody>\n",
       "    <tr>\n",
       "      <th>0</th>\n",
       "      <td>0</td>\n",
       "      <td>male</td>\n",
       "      <td>non_reader</td>\n",
       "      <td>0</td>\n",
       "      <td>2019-02-06</td>\n",
       "      <td>2018-09-24</td>\n",
       "    </tr>\n",
       "    <tr>\n",
       "      <th>1</th>\n",
       "      <td>1</td>\n",
       "      <td>male</td>\n",
       "      <td>reader</td>\n",
       "      <td>0</td>\n",
       "      <td>2019-02-06</td>\n",
       "      <td>2016-11-07</td>\n",
       "    </tr>\n",
       "    <tr>\n",
       "      <th>2</th>\n",
       "      <td>2</td>\n",
       "      <td>male</td>\n",
       "      <td>non_reader</td>\n",
       "      <td>0</td>\n",
       "      <td>2019-02-06</td>\n",
       "      <td>2018-09-17</td>\n",
       "    </tr>\n",
       "    <tr>\n",
       "      <th>3</th>\n",
       "      <td>3</td>\n",
       "      <td>male</td>\n",
       "      <td>non_reader</td>\n",
       "      <td>0</td>\n",
       "      <td>2019-02-06</td>\n",
       "      <td>2018-03-04</td>\n",
       "    </tr>\n",
       "    <tr>\n",
       "      <th>4</th>\n",
       "      <td>4</td>\n",
       "      <td>male</td>\n",
       "      <td>non_reader</td>\n",
       "      <td>0</td>\n",
       "      <td>2019-02-06</td>\n",
       "      <td>2017-03-09</td>\n",
       "    </tr>\n",
       "  </tbody>\n",
       "</table>\n",
       "</div>"
      ],
      "text/plain": [
       "   uid gender   user_type  variant_number          dt signup_date\n",
       "0    0   male  non_reader               0  2019-02-06  2018-09-24\n",
       "1    1   male      reader               0  2019-02-06  2016-11-07\n",
       "2    2   male  non_reader               0  2019-02-06  2018-09-17\n",
       "3    3   male  non_reader               0  2019-02-06  2018-03-04\n",
       "4    4   male  non_reader               0  2019-02-06  2017-03-09"
      ]
     },
     "execution_count": 104,
     "metadata": {},
     "output_type": "execute_result"
    }
   ],
   "source": [
    "t5 = pd.merge(left=t4,right=t2, left_on='uid', right_on='uid')\n",
    "t5.head()"
   ]
  },
  {
   "cell_type": "code",
   "execution_count": 105,
   "metadata": {},
   "outputs": [
    {
     "data": {
      "text/plain": [
       "(50000, 6)"
      ]
     },
     "execution_count": 105,
     "metadata": {},
     "output_type": "execute_result"
    }
   ],
   "source": [
    "t5.shape"
   ]
  },
  {
   "cell_type": "code",
   "execution_count": 108,
   "metadata": {},
   "outputs": [
    {
     "data": {
      "text/html": [
       "<div>\n",
       "<style scoped>\n",
       "    .dataframe tbody tr th:only-of-type {\n",
       "        vertical-align: middle;\n",
       "    }\n",
       "\n",
       "    .dataframe tbody tr th {\n",
       "        vertical-align: top;\n",
       "    }\n",
       "\n",
       "    .dataframe thead th {\n",
       "        text-align: right;\n",
       "    }\n",
       "</style>\n",
       "<table border=\"1\" class=\"dataframe\">\n",
       "  <thead>\n",
       "    <tr style=\"text-align: right;\">\n",
       "      <th>gender</th>\n",
       "      <th>female</th>\n",
       "      <th>male</th>\n",
       "      <th>unknown</th>\n",
       "    </tr>\n",
       "    <tr>\n",
       "      <th>variant_number</th>\n",
       "      <th></th>\n",
       "      <th></th>\n",
       "      <th></th>\n",
       "    </tr>\n",
       "  </thead>\n",
       "  <tbody>\n",
       "    <tr>\n",
       "      <th>0</th>\n",
       "      <td>0.290175</td>\n",
       "      <td>0.555925</td>\n",
       "      <td>0.1539</td>\n",
       "    </tr>\n",
       "    <tr>\n",
       "      <th>1</th>\n",
       "      <td>0.287000</td>\n",
       "      <td>0.552000</td>\n",
       "      <td>0.1610</td>\n",
       "    </tr>\n",
       "  </tbody>\n",
       "</table>\n",
       "</div>"
      ],
      "text/plain": [
       "gender            female      male  unknown\n",
       "variant_number                             \n",
       "0               0.290175  0.555925   0.1539\n",
       "1               0.287000  0.552000   0.1610"
      ]
     },
     "execution_count": 108,
     "metadata": {},
     "output_type": "execute_result"
    }
   ],
   "source": [
    "pd.crosstab(t5['variant_number'],t5['gender']).apply(lambda r: r/r.sum(), axis=1)"
   ]
  },
  {
   "cell_type": "code",
   "execution_count": 109,
   "metadata": {},
   "outputs": [
    {
     "data": {
      "text/html": [
       "<div>\n",
       "<style scoped>\n",
       "    .dataframe tbody tr th:only-of-type {\n",
       "        vertical-align: middle;\n",
       "    }\n",
       "\n",
       "    .dataframe tbody tr th {\n",
       "        vertical-align: top;\n",
       "    }\n",
       "\n",
       "    .dataframe thead th {\n",
       "        text-align: right;\n",
       "    }\n",
       "</style>\n",
       "<table border=\"1\" class=\"dataframe\">\n",
       "  <thead>\n",
       "    <tr style=\"text-align: right;\">\n",
       "      <th>user_type</th>\n",
       "      <th>contributor</th>\n",
       "      <th>new_user</th>\n",
       "      <th>non_reader</th>\n",
       "      <th>reader</th>\n",
       "    </tr>\n",
       "    <tr>\n",
       "      <th>variant_number</th>\n",
       "      <th></th>\n",
       "      <th></th>\n",
       "      <th></th>\n",
       "      <th></th>\n",
       "    </tr>\n",
       "  </thead>\n",
       "  <tbody>\n",
       "    <tr>\n",
       "      <th>0</th>\n",
       "      <td>0.022875</td>\n",
       "      <td>0.091325</td>\n",
       "      <td>0.717475</td>\n",
       "      <td>0.168325</td>\n",
       "    </tr>\n",
       "    <tr>\n",
       "      <th>1</th>\n",
       "      <td>0.012900</td>\n",
       "      <td>0.123500</td>\n",
       "      <td>0.736700</td>\n",
       "      <td>0.126900</td>\n",
       "    </tr>\n",
       "  </tbody>\n",
       "</table>\n",
       "</div>"
      ],
      "text/plain": [
       "user_type       contributor  new_user  non_reader    reader\n",
       "variant_number                                             \n",
       "0                  0.022875  0.091325    0.717475  0.168325\n",
       "1                  0.012900  0.123500    0.736700  0.126900"
      ]
     },
     "execution_count": 109,
     "metadata": {},
     "output_type": "execute_result"
    }
   ],
   "source": [
    "pd.crosstab(t5['variant_number'],t5['user_type']).apply(lambda r: r/r.sum(), axis=1)"
   ]
  },
  {
   "cell_type": "code",
   "execution_count": 110,
   "metadata": {},
   "outputs": [
    {
     "data": {
      "text/html": [
       "<div>\n",
       "<style scoped>\n",
       "    .dataframe tbody tr th:only-of-type {\n",
       "        vertical-align: middle;\n",
       "    }\n",
       "\n",
       "    .dataframe tbody tr th {\n",
       "        vertical-align: top;\n",
       "    }\n",
       "\n",
       "    .dataframe thead th {\n",
       "        text-align: right;\n",
       "    }\n",
       "</style>\n",
       "<table border=\"1\" class=\"dataframe\">\n",
       "  <thead>\n",
       "    <tr style=\"text-align: right;\">\n",
       "      <th>user_type</th>\n",
       "      <th>contributor</th>\n",
       "      <th>new_user</th>\n",
       "      <th>non_reader</th>\n",
       "      <th>reader</th>\n",
       "    </tr>\n",
       "    <tr>\n",
       "      <th>gender</th>\n",
       "      <th></th>\n",
       "      <th></th>\n",
       "      <th></th>\n",
       "      <th></th>\n",
       "    </tr>\n",
       "  </thead>\n",
       "  <tbody>\n",
       "    <tr>\n",
       "      <th>female</th>\n",
       "      <td>0.017200</td>\n",
       "      <td>0.109898</td>\n",
       "      <td>0.723907</td>\n",
       "      <td>0.148995</td>\n",
       "    </tr>\n",
       "    <tr>\n",
       "      <th>male</th>\n",
       "      <td>0.024462</td>\n",
       "      <td>0.083619</td>\n",
       "      <td>0.716108</td>\n",
       "      <td>0.175812</td>\n",
       "    </tr>\n",
       "    <tr>\n",
       "      <th>unknown</th>\n",
       "      <td>0.014937</td>\n",
       "      <td>0.125676</td>\n",
       "      <td>0.735127</td>\n",
       "      <td>0.124260</td>\n",
       "    </tr>\n",
       "  </tbody>\n",
       "</table>\n",
       "</div>"
      ],
      "text/plain": [
       "user_type  contributor  new_user  non_reader    reader\n",
       "gender                                                \n",
       "female        0.017200  0.109898    0.723907  0.148995\n",
       "male          0.024462  0.083619    0.716108  0.175812\n",
       "unknown       0.014937  0.125676    0.735127  0.124260"
      ]
     },
     "execution_count": 110,
     "metadata": {},
     "output_type": "execute_result"
    }
   ],
   "source": [
    "pd.crosstab(t5['gender'],t5['user_type']).apply(lambda r: r/r.sum(), axis=1)"
   ]
  },
  {
   "cell_type": "code",
   "execution_count": 111,
   "metadata": {},
   "outputs": [
    {
     "data": {
      "text/html": [
       "<div>\n",
       "<style scoped>\n",
       "    .dataframe tbody tr th:only-of-type {\n",
       "        vertical-align: middle;\n",
       "    }\n",
       "\n",
       "    .dataframe tbody tr th {\n",
       "        vertical-align: top;\n",
       "    }\n",
       "\n",
       "    .dataframe thead th {\n",
       "        text-align: right;\n",
       "    }\n",
       "</style>\n",
       "<table border=\"1\" class=\"dataframe\">\n",
       "  <thead>\n",
       "    <tr style=\"text-align: right;\">\n",
       "      <th></th>\n",
       "      <th>uid</th>\n",
       "      <th>dt_x</th>\n",
       "      <th>active_mins</th>\n",
       "      <th>gender</th>\n",
       "      <th>user_type</th>\n",
       "      <th>variant_number</th>\n",
       "      <th>dt_y</th>\n",
       "      <th>signup_date</th>\n",
       "    </tr>\n",
       "  </thead>\n",
       "  <tbody>\n",
       "    <tr>\n",
       "      <th>0</th>\n",
       "      <td>0</td>\n",
       "      <td>2019-02-22</td>\n",
       "      <td>5.0</td>\n",
       "      <td>male</td>\n",
       "      <td>non_reader</td>\n",
       "      <td>0</td>\n",
       "      <td>2019-02-06</td>\n",
       "      <td>2018-09-24</td>\n",
       "    </tr>\n",
       "    <tr>\n",
       "      <th>1</th>\n",
       "      <td>0</td>\n",
       "      <td>2019-03-11</td>\n",
       "      <td>5.0</td>\n",
       "      <td>male</td>\n",
       "      <td>non_reader</td>\n",
       "      <td>0</td>\n",
       "      <td>2019-02-06</td>\n",
       "      <td>2018-09-24</td>\n",
       "    </tr>\n",
       "    <tr>\n",
       "      <th>2</th>\n",
       "      <td>0</td>\n",
       "      <td>2019-03-18</td>\n",
       "      <td>3.0</td>\n",
       "      <td>male</td>\n",
       "      <td>non_reader</td>\n",
       "      <td>0</td>\n",
       "      <td>2019-02-06</td>\n",
       "      <td>2018-09-24</td>\n",
       "    </tr>\n",
       "    <tr>\n",
       "      <th>3</th>\n",
       "      <td>0</td>\n",
       "      <td>2019-03-22</td>\n",
       "      <td>4.0</td>\n",
       "      <td>male</td>\n",
       "      <td>non_reader</td>\n",
       "      <td>0</td>\n",
       "      <td>2019-02-06</td>\n",
       "      <td>2018-09-24</td>\n",
       "    </tr>\n",
       "    <tr>\n",
       "      <th>4</th>\n",
       "      <td>0</td>\n",
       "      <td>2019-04-03</td>\n",
       "      <td>9.0</td>\n",
       "      <td>male</td>\n",
       "      <td>non_reader</td>\n",
       "      <td>0</td>\n",
       "      <td>2019-02-06</td>\n",
       "      <td>2018-09-24</td>\n",
       "    </tr>\n",
       "  </tbody>\n",
       "</table>\n",
       "</div>"
      ],
      "text/plain": [
       "   uid        dt_x  active_mins gender   user_type  variant_number  \\\n",
       "0    0  2019-02-22          5.0   male  non_reader               0   \n",
       "1    0  2019-03-11          5.0   male  non_reader               0   \n",
       "2    0  2019-03-18          3.0   male  non_reader               0   \n",
       "3    0  2019-03-22          4.0   male  non_reader               0   \n",
       "4    0  2019-04-03          9.0   male  non_reader               0   \n",
       "\n",
       "         dt_y signup_date  \n",
       "0  2019-02-06  2018-09-24  \n",
       "1  2019-02-06  2018-09-24  \n",
       "2  2019-02-06  2018-09-24  \n",
       "3  2019-02-06  2018-09-24  \n",
       "4  2019-02-06  2018-09-24  "
      ]
     },
     "execution_count": 111,
     "metadata": {},
     "output_type": "execute_result"
    }
   ],
   "source": [
    "merged_df3 = pd.merge(left=t1,right=t5, left_on='uid', right_on='uid')\n",
    "merged_df3.head()"
   ]
  },
  {
   "cell_type": "code",
   "execution_count": 116,
   "metadata": {},
   "outputs": [
    {
     "data": {
      "text/plain": [
       "(46525, 5)"
      ]
     },
     "execution_count": 116,
     "metadata": {},
     "output_type": "execute_result"
    }
   ],
   "source": [
    "# group by user to compute mean time across all his/her visit.\n",
    "df3 = merged_df3.groupby(['uid','variant_number','gender','user_type'], as_index=False)['active_mins'].mean()\n",
    "df3.shape # we have 46525 unique users in both groups\n",
    "#df3.variant_number.value_counts()"
   ]
  },
  {
   "cell_type": "code",
   "execution_count": 117,
   "metadata": {},
   "outputs": [
    {
     "data": {
      "text/html": [
       "<div>\n",
       "<style scoped>\n",
       "    .dataframe tbody tr th:only-of-type {\n",
       "        vertical-align: middle;\n",
       "    }\n",
       "\n",
       "    .dataframe tbody tr th {\n",
       "        vertical-align: top;\n",
       "    }\n",
       "\n",
       "    .dataframe thead th {\n",
       "        text-align: right;\n",
       "    }\n",
       "</style>\n",
       "<table border=\"1\" class=\"dataframe\">\n",
       "  <thead>\n",
       "    <tr style=\"text-align: right;\">\n",
       "      <th></th>\n",
       "      <th>uid</th>\n",
       "      <th>variant_number</th>\n",
       "      <th>gender</th>\n",
       "      <th>user_type</th>\n",
       "      <th>active_mins</th>\n",
       "    </tr>\n",
       "  </thead>\n",
       "  <tbody>\n",
       "    <tr>\n",
       "      <th>0</th>\n",
       "      <td>0</td>\n",
       "      <td>0</td>\n",
       "      <td>male</td>\n",
       "      <td>non_reader</td>\n",
       "      <td>3.307692</td>\n",
       "    </tr>\n",
       "    <tr>\n",
       "      <th>1</th>\n",
       "      <td>1</td>\n",
       "      <td>0</td>\n",
       "      <td>male</td>\n",
       "      <td>reader</td>\n",
       "      <td>9.000000</td>\n",
       "    </tr>\n",
       "    <tr>\n",
       "      <th>2</th>\n",
       "      <td>2</td>\n",
       "      <td>0</td>\n",
       "      <td>male</td>\n",
       "      <td>non_reader</td>\n",
       "      <td>2.428571</td>\n",
       "    </tr>\n",
       "    <tr>\n",
       "      <th>3</th>\n",
       "      <td>3</td>\n",
       "      <td>0</td>\n",
       "      <td>male</td>\n",
       "      <td>non_reader</td>\n",
       "      <td>3.208333</td>\n",
       "    </tr>\n",
       "    <tr>\n",
       "      <th>4</th>\n",
       "      <td>4</td>\n",
       "      <td>0</td>\n",
       "      <td>male</td>\n",
       "      <td>non_reader</td>\n",
       "      <td>1.950000</td>\n",
       "    </tr>\n",
       "  </tbody>\n",
       "</table>\n",
       "</div>"
      ],
      "text/plain": [
       "   uid  variant_number gender   user_type  active_mins\n",
       "0    0               0   male  non_reader     3.307692\n",
       "1    1               0   male      reader     9.000000\n",
       "2    2               0   male  non_reader     2.428571\n",
       "3    3               0   male  non_reader     3.208333\n",
       "4    4               0   male  non_reader     1.950000"
      ]
     },
     "execution_count": 117,
     "metadata": {},
     "output_type": "execute_result"
    }
   ],
   "source": [
    "df3.head()"
   ]
  },
  {
   "cell_type": "code",
   "execution_count": 171,
   "metadata": {},
   "outputs": [],
   "source": [
    "df3.to_csv('df3_quora.csv')"
   ]
  },
  {
   "cell_type": "code",
   "execution_count": 122,
   "metadata": {},
   "outputs": [
    {
     "data": {
      "text/html": [
       "<div>\n",
       "<style scoped>\n",
       "    .dataframe tbody tr th:only-of-type {\n",
       "        vertical-align: middle;\n",
       "    }\n",
       "\n",
       "    .dataframe tbody tr th {\n",
       "        vertical-align: top;\n",
       "    }\n",
       "\n",
       "    .dataframe thead th {\n",
       "        text-align: right;\n",
       "    }\n",
       "</style>\n",
       "<table border=\"1\" class=\"dataframe\">\n",
       "  <thead>\n",
       "    <tr style=\"text-align: right;\">\n",
       "      <th></th>\n",
       "      <th>variant_number</th>\n",
       "      <th>user_type</th>\n",
       "      <th>mean</th>\n",
       "      <th>count</th>\n",
       "      <th>std</th>\n",
       "      <th>var</th>\n",
       "    </tr>\n",
       "  </thead>\n",
       "  <tbody>\n",
       "    <tr>\n",
       "      <th>0</th>\n",
       "      <td>0</td>\n",
       "      <td>contributor</td>\n",
       "      <td>8.067700</td>\n",
       "      <td>885</td>\n",
       "      <td>2.948805</td>\n",
       "      <td>8.695448</td>\n",
       "    </tr>\n",
       "    <tr>\n",
       "      <th>1</th>\n",
       "      <td>0</td>\n",
       "      <td>new_user</td>\n",
       "      <td>2.892973</td>\n",
       "      <td>2371</td>\n",
       "      <td>1.828464</td>\n",
       "      <td>3.343280</td>\n",
       "    </tr>\n",
       "    <tr>\n",
       "      <th>2</th>\n",
       "      <td>0</td>\n",
       "      <td>non_reader</td>\n",
       "      <td>3.471255</td>\n",
       "      <td>27442</td>\n",
       "      <td>1.679886</td>\n",
       "      <td>2.822016</td>\n",
       "    </tr>\n",
       "    <tr>\n",
       "      <th>3</th>\n",
       "      <td>0</td>\n",
       "      <td>reader</td>\n",
       "      <td>6.871204</td>\n",
       "      <td>6664</td>\n",
       "      <td>2.581401</td>\n",
       "      <td>6.663631</td>\n",
       "    </tr>\n",
       "    <tr>\n",
       "      <th>4</th>\n",
       "      <td>1</td>\n",
       "      <td>contributor</td>\n",
       "      <td>8.062027</td>\n",
       "      <td>124</td>\n",
       "      <td>2.507654</td>\n",
       "      <td>6.288329</td>\n",
       "    </tr>\n",
       "    <tr>\n",
       "      <th>5</th>\n",
       "      <td>1</td>\n",
       "      <td>new_user</td>\n",
       "      <td>4.414679</td>\n",
       "      <td>796</td>\n",
       "      <td>2.522767</td>\n",
       "      <td>6.364354</td>\n",
       "    </tr>\n",
       "    <tr>\n",
       "      <th>6</th>\n",
       "      <td>1</td>\n",
       "      <td>non_reader</td>\n",
       "      <td>4.919898</td>\n",
       "      <td>6994</td>\n",
       "      <td>2.034194</td>\n",
       "      <td>4.137944</td>\n",
       "    </tr>\n",
       "    <tr>\n",
       "      <th>7</th>\n",
       "      <td>1</td>\n",
       "      <td>reader</td>\n",
       "      <td>7.654943</td>\n",
       "      <td>1249</td>\n",
       "      <td>2.230615</td>\n",
       "      <td>4.975642</td>\n",
       "    </tr>\n",
       "  </tbody>\n",
       "</table>\n",
       "</div>"
      ],
      "text/plain": [
       "   variant_number    user_type      mean  count       std       var\n",
       "0               0  contributor  8.067700    885  2.948805  8.695448\n",
       "1               0     new_user  2.892973   2371  1.828464  3.343280\n",
       "2               0   non_reader  3.471255  27442  1.679886  2.822016\n",
       "3               0       reader  6.871204   6664  2.581401  6.663631\n",
       "4               1  contributor  8.062027    124  2.507654  6.288329\n",
       "5               1     new_user  4.414679    796  2.522767  6.364354\n",
       "6               1   non_reader  4.919898   6994  2.034194  4.137944\n",
       "7               1       reader  7.654943   1249  2.230615  4.975642"
      ]
     },
     "execution_count": 122,
     "metadata": {},
     "output_type": "execute_result"
    }
   ],
   "source": [
    "#stats = df3.groupby(['variant_number','gender','user_type'])['active_mins'].agg(['mean', 'count', 'std','var'])\n",
    "#stats = df3.groupby(['variant_number','gender'])['active_mins'].agg(['mean', 'count', 'std','var'])\n",
    "stats = df3.groupby(['variant_number','user_type'])['active_mins'].agg(['mean', 'count', 'std','var']).reset_index()\n",
    "\n",
    "stats"
   ]
  },
  {
   "cell_type": "code",
   "execution_count": 144,
   "metadata": {},
   "outputs": [
    {
     "data": {
      "text/plain": [
       "6.2883294657262665"
      ]
     },
     "execution_count": 144,
     "metadata": {},
     "output_type": "execute_result"
    }
   ],
   "source": [
    "utype='contributor'\n",
    "control = stats[(stats.variant_number==0) & (stats.user_type==utype)]\n",
    "treat = stats[(stats.variant_number==1) & (stats.user_type==utype)]\n",
    "#sigma_dif = math.sqrt((control['var'][0]/control['count'][0])+((treat['var'][0]/treat['count'][0])))\n",
    "treat.iloc[0]['var']\n",
    "    "
   ]
  },
  {
   "cell_type": "code",
   "execution_count": 153,
   "metadata": {},
   "outputs": [
    {
     "name": "stdout",
     "output_type": "stream",
     "text": [
      "(-0.4879189443104225, 0.47657393324998065)\n"
     ]
    }
   ],
   "source": [
    "#create function to compute confidence interval given a user_type category and data frame stats\n",
    "def ci_usertype(stats,utype):\n",
    "    control = stats[(stats.variant_number==0) & (stats.user_type==utype)]\n",
    "    treat = stats[(stats.variant_number==1) & (stats.user_type==utype)]\n",
    "\n",
    "    sigma_dif = math.sqrt((control.iloc[0]['var']/control.iloc[0]['count'])+((treat.iloc[0]['var']/treat.iloc[0]['count'])))\n",
    "    upper = (treat.iloc[0]['mean']-control.iloc[0]['mean']) + (1.96 * sigma_dif)\n",
    "    lower = (treat.iloc[0]['mean']-control.iloc[0]['mean']) - (1.96 * sigma_dif)\n",
    "    return (lower,upper)\n",
    "\n"
   ]
  },
  {
   "cell_type": "code",
   "execution_count": 155,
   "metadata": {},
   "outputs": [
    {
     "name": "stdout",
     "output_type": "stream",
     "text": [
      "contributor ---> (-0.4879189443104225, 0.47657393324998065)\n",
      "new_user ---> (1.3316220606045999, 1.7117911439585125)\n",
      "non_reader ---> (1.3969912190555374, 1.5002947542414995)\n",
      "reader ---> (0.6453729886947472, 0.9221051371502116)\n"
     ]
    }
   ],
   "source": [
    "# run the function on all unique user_type categories\n",
    "\n",
    "utypes=stats['user_type'].unique()\n",
    "utypes=utypes.tolist()\n",
    "utypes\n",
    "\n",
    "for u in utypes:\n",
    "    inter = ci_usertype(stats,u)\n",
    "    print(u, '--->', inter)\n",
    "    \n"
   ]
  },
  {
   "cell_type": "code",
   "execution_count": 156,
   "metadata": {},
   "outputs": [
    {
     "data": {
      "text/html": [
       "<div>\n",
       "<style scoped>\n",
       "    .dataframe tbody tr th:only-of-type {\n",
       "        vertical-align: middle;\n",
       "    }\n",
       "\n",
       "    .dataframe tbody tr th {\n",
       "        vertical-align: top;\n",
       "    }\n",
       "\n",
       "    .dataframe thead th {\n",
       "        text-align: right;\n",
       "    }\n",
       "</style>\n",
       "<table border=\"1\" class=\"dataframe\">\n",
       "  <thead>\n",
       "    <tr style=\"text-align: right;\">\n",
       "      <th></th>\n",
       "      <th>variant_number</th>\n",
       "      <th>gender</th>\n",
       "      <th>mean</th>\n",
       "      <th>count</th>\n",
       "      <th>std</th>\n",
       "      <th>var</th>\n",
       "    </tr>\n",
       "  </thead>\n",
       "  <tbody>\n",
       "    <tr>\n",
       "      <th>0</th>\n",
       "      <td>0</td>\n",
       "      <td>female</td>\n",
       "      <td>3.961722</td>\n",
       "      <td>10725</td>\n",
       "      <td>2.305638</td>\n",
       "      <td>5.315969</td>\n",
       "    </tr>\n",
       "    <tr>\n",
       "      <th>1</th>\n",
       "      <td>0</td>\n",
       "      <td>male</td>\n",
       "      <td>4.318368</td>\n",
       "      <td>20961</td>\n",
       "      <td>2.487382</td>\n",
       "      <td>6.187067</td>\n",
       "    </tr>\n",
       "    <tr>\n",
       "      <th>2</th>\n",
       "      <td>0</td>\n",
       "      <td>unknown</td>\n",
       "      <td>3.883059</td>\n",
       "      <td>5676</td>\n",
       "      <td>2.248822</td>\n",
       "      <td>5.057200</td>\n",
       "    </tr>\n",
       "    <tr>\n",
       "      <th>3</th>\n",
       "      <td>1</td>\n",
       "      <td>female</td>\n",
       "      <td>5.147343</td>\n",
       "      <td>2599</td>\n",
       "      <td>2.392395</td>\n",
       "      <td>5.723552</td>\n",
       "    </tr>\n",
       "    <tr>\n",
       "      <th>4</th>\n",
       "      <td>1</td>\n",
       "      <td>male</td>\n",
       "      <td>5.403433</td>\n",
       "      <td>5112</td>\n",
       "      <td>2.318357</td>\n",
       "      <td>5.374780</td>\n",
       "    </tr>\n",
       "    <tr>\n",
       "      <th>5</th>\n",
       "      <td>1</td>\n",
       "      <td>unknown</td>\n",
       "      <td>5.154455</td>\n",
       "      <td>1452</td>\n",
       "      <td>2.348080</td>\n",
       "      <td>5.513481</td>\n",
       "    </tr>\n",
       "  </tbody>\n",
       "</table>\n",
       "</div>"
      ],
      "text/plain": [
       "   variant_number   gender      mean  count       std       var\n",
       "0               0   female  3.961722  10725  2.305638  5.315969\n",
       "1               0     male  4.318368  20961  2.487382  6.187067\n",
       "2               0  unknown  3.883059   5676  2.248822  5.057200\n",
       "3               1   female  5.147343   2599  2.392395  5.723552\n",
       "4               1     male  5.403433   5112  2.318357  5.374780\n",
       "5               1  unknown  5.154455   1452  2.348080  5.513481"
      ]
     },
     "execution_count": 156,
     "metadata": {},
     "output_type": "execute_result"
    }
   ],
   "source": [
    "stats2 = df3.groupby(['variant_number','gender'])['active_mins'].agg(['mean', 'count', 'std','var']).reset_index()\n",
    "\n",
    "stats2"
   ]
  },
  {
   "cell_type": "code",
   "execution_count": 158,
   "metadata": {},
   "outputs": [],
   "source": [
    "#create function to compute confidence interval given a user_type category and data frame stats\n",
    "def ci_gender(stats,gen):\n",
    "    control = stats[(stats.variant_number==0) & (stats.gender==gen)]\n",
    "    treat = stats[(stats.variant_number==1) & (stats.gender==gen)]\n",
    "\n",
    "    sigma_dif = math.sqrt((control.iloc[0]['var']/control.iloc[0]['count'])+((treat.iloc[0]['var']/treat.iloc[0]['count'])))\n",
    "    upper = (treat.iloc[0]['mean']-control.iloc[0]['mean']) + (1.96 * sigma_dif)\n",
    "    lower = (treat.iloc[0]['mean']-control.iloc[0]['mean']) - (1.96 * sigma_dif)\n",
    "    return (lower,upper)\n"
   ]
  },
  {
   "cell_type": "code",
   "execution_count": 161,
   "metadata": {},
   "outputs": [
    {
     "name": "stdout",
     "output_type": "stream",
     "text": [
      "female ---> (1.0838168999869435, 1.2874258861290009)\n",
      "male ---> (1.0131414147714226, 1.1569885842349406)\n",
      "unknown ---> (1.1371945853770327, 1.405597029108042)\n"
     ]
    }
   ],
   "source": [
    "ugender=stats2['gender'].unique()\n",
    "ugender=ugender.tolist()\n",
    "ugender\n",
    "\n",
    "for g in ugender:\n",
    "    inter = ci_gender(stats2,g)\n",
    "    print(g, '--->', inter)"
   ]
  },
  {
   "cell_type": "code",
   "execution_count": 163,
   "metadata": {},
   "outputs": [
    {
     "data": {
      "text/html": [
       "<div>\n",
       "<style scoped>\n",
       "    .dataframe tbody tr th:only-of-type {\n",
       "        vertical-align: middle;\n",
       "    }\n",
       "\n",
       "    .dataframe tbody tr th {\n",
       "        vertical-align: top;\n",
       "    }\n",
       "\n",
       "    .dataframe thead th {\n",
       "        text-align: right;\n",
       "    }\n",
       "</style>\n",
       "<table border=\"1\" class=\"dataframe\">\n",
       "  <thead>\n",
       "    <tr style=\"text-align: right;\">\n",
       "      <th></th>\n",
       "      <th>variant_number</th>\n",
       "      <th>gender</th>\n",
       "      <th>user_type</th>\n",
       "      <th>mean</th>\n",
       "      <th>count</th>\n",
       "      <th>std</th>\n",
       "      <th>var</th>\n",
       "    </tr>\n",
       "  </thead>\n",
       "  <tbody>\n",
       "    <tr>\n",
       "      <th>0</th>\n",
       "      <td>0</td>\n",
       "      <td>female</td>\n",
       "      <td>contributor</td>\n",
       "      <td>7.142652</td>\n",
       "      <td>220</td>\n",
       "      <td>2.676451</td>\n",
       "      <td>7.163392</td>\n",
       "    </tr>\n",
       "    <tr>\n",
       "      <th>1</th>\n",
       "      <td>0</td>\n",
       "      <td>female</td>\n",
       "      <td>new_user</td>\n",
       "      <td>2.822876</td>\n",
       "      <td>762</td>\n",
       "      <td>1.777076</td>\n",
       "      <td>3.157999</td>\n",
       "    </tr>\n",
       "    <tr>\n",
       "      <th>2</th>\n",
       "      <td>0</td>\n",
       "      <td>female</td>\n",
       "      <td>non_reader</td>\n",
       "      <td>3.374448</td>\n",
       "      <td>7935</td>\n",
       "      <td>1.700659</td>\n",
       "      <td>2.892242</td>\n",
       "    </tr>\n",
       "    <tr>\n",
       "      <th>3</th>\n",
       "      <td>0</td>\n",
       "      <td>female</td>\n",
       "      <td>reader</td>\n",
       "      <td>6.632086</td>\n",
       "      <td>1808</td>\n",
       "      <td>2.494685</td>\n",
       "      <td>6.223454</td>\n",
       "    </tr>\n",
       "    <tr>\n",
       "      <th>4</th>\n",
       "      <td>0</td>\n",
       "      <td>male</td>\n",
       "      <td>contributor</td>\n",
       "      <td>8.492587</td>\n",
       "      <td>572</td>\n",
       "      <td>2.924966</td>\n",
       "      <td>8.555426</td>\n",
       "    </tr>\n",
       "    <tr>\n",
       "      <th>5</th>\n",
       "      <td>0</td>\n",
       "      <td>male</td>\n",
       "      <td>new_user</td>\n",
       "      <td>2.955687</td>\n",
       "      <td>1132</td>\n",
       "      <td>1.840741</td>\n",
       "      <td>3.388328</td>\n",
       "    </tr>\n",
       "    <tr>\n",
       "      <th>6</th>\n",
       "      <td>0</td>\n",
       "      <td>male</td>\n",
       "      <td>non_reader</td>\n",
       "      <td>3.537730</td>\n",
       "      <td>15178</td>\n",
       "      <td>1.666697</td>\n",
       "      <td>2.777879</td>\n",
       "    </tr>\n",
       "    <tr>\n",
       "      <th>7</th>\n",
       "      <td>0</td>\n",
       "      <td>male</td>\n",
       "      <td>reader</td>\n",
       "      <td>7.015949</td>\n",
       "      <td>4079</td>\n",
       "      <td>2.611095</td>\n",
       "      <td>6.817815</td>\n",
       "    </tr>\n",
       "    <tr>\n",
       "      <th>8</th>\n",
       "      <td>0</td>\n",
       "      <td>unknown</td>\n",
       "      <td>contributor</td>\n",
       "      <td>7.642702</td>\n",
       "      <td>93</td>\n",
       "      <td>3.170050</td>\n",
       "      <td>10.049217</td>\n",
       "    </tr>\n",
       "    <tr>\n",
       "      <th>9</th>\n",
       "      <td>0</td>\n",
       "      <td>unknown</td>\n",
       "      <td>new_user</td>\n",
       "      <td>2.856120</td>\n",
       "      <td>477</td>\n",
       "      <td>1.878277</td>\n",
       "      <td>3.527926</td>\n",
       "    </tr>\n",
       "    <tr>\n",
       "      <th>10</th>\n",
       "      <td>0</td>\n",
       "      <td>unknown</td>\n",
       "      <td>non_reader</td>\n",
       "      <td>3.415631</td>\n",
       "      <td>4329</td>\n",
       "      <td>1.677374</td>\n",
       "      <td>2.813585</td>\n",
       "    </tr>\n",
       "    <tr>\n",
       "      <th>11</th>\n",
       "      <td>0</td>\n",
       "      <td>unknown</td>\n",
       "      <td>reader</td>\n",
       "      <td>6.667744</td>\n",
       "      <td>777</td>\n",
       "      <td>2.571137</td>\n",
       "      <td>6.610747</td>\n",
       "    </tr>\n",
       "    <tr>\n",
       "      <th>12</th>\n",
       "      <td>1</td>\n",
       "      <td>female</td>\n",
       "      <td>contributor</td>\n",
       "      <td>7.844039</td>\n",
       "      <td>26</td>\n",
       "      <td>2.208249</td>\n",
       "      <td>4.876364</td>\n",
       "    </tr>\n",
       "    <tr>\n",
       "      <th>13</th>\n",
       "      <td>1</td>\n",
       "      <td>female</td>\n",
       "      <td>new_user</td>\n",
       "      <td>4.464382</td>\n",
       "      <td>274</td>\n",
       "      <td>2.587578</td>\n",
       "      <td>6.695559</td>\n",
       "    </tr>\n",
       "    <tr>\n",
       "      <th>14</th>\n",
       "      <td>1</td>\n",
       "      <td>female</td>\n",
       "      <td>non_reader</td>\n",
       "      <td>4.810470</td>\n",
       "      <td>1968</td>\n",
       "      <td>2.142444</td>\n",
       "      <td>4.590068</td>\n",
       "    </tr>\n",
       "    <tr>\n",
       "      <th>15</th>\n",
       "      <td>1</td>\n",
       "      <td>female</td>\n",
       "      <td>reader</td>\n",
       "      <td>7.503789</td>\n",
       "      <td>331</td>\n",
       "      <td>2.141313</td>\n",
       "      <td>4.585221</td>\n",
       "    </tr>\n",
       "    <tr>\n",
       "      <th>16</th>\n",
       "      <td>1</td>\n",
       "      <td>male</td>\n",
       "      <td>contributor</td>\n",
       "      <td>8.320709</td>\n",
       "      <td>79</td>\n",
       "      <td>2.506627</td>\n",
       "      <td>6.283178</td>\n",
       "    </tr>\n",
       "    <tr>\n",
       "      <th>17</th>\n",
       "      <td>1</td>\n",
       "      <td>male</td>\n",
       "      <td>new_user</td>\n",
       "      <td>4.354160</td>\n",
       "      <td>369</td>\n",
       "      <td>2.472309</td>\n",
       "      <td>6.112312</td>\n",
       "    </tr>\n",
       "    <tr>\n",
       "      <th>18</th>\n",
       "      <td>1</td>\n",
       "      <td>male</td>\n",
       "      <td>non_reader</td>\n",
       "      <td>4.998772</td>\n",
       "      <td>3920</td>\n",
       "      <td>1.973386</td>\n",
       "      <td>3.894253</td>\n",
       "    </tr>\n",
       "    <tr>\n",
       "      <th>19</th>\n",
       "      <td>1</td>\n",
       "      <td>male</td>\n",
       "      <td>reader</td>\n",
       "      <td>7.746163</td>\n",
       "      <td>744</td>\n",
       "      <td>2.221167</td>\n",
       "      <td>4.933583</td>\n",
       "    </tr>\n",
       "    <tr>\n",
       "      <th>20</th>\n",
       "      <td>1</td>\n",
       "      <td>unknown</td>\n",
       "      <td>contributor</td>\n",
       "      <td>7.284756</td>\n",
       "      <td>19</td>\n",
       "      <td>2.823186</td>\n",
       "      <td>7.970380</td>\n",
       "    </tr>\n",
       "    <tr>\n",
       "      <th>21</th>\n",
       "      <td>1</td>\n",
       "      <td>unknown</td>\n",
       "      <td>new_user</td>\n",
       "      <td>4.471628</td>\n",
       "      <td>153</td>\n",
       "      <td>2.539061</td>\n",
       "      <td>6.446829</td>\n",
       "    </tr>\n",
       "    <tr>\n",
       "      <th>22</th>\n",
       "      <td>1</td>\n",
       "      <td>unknown</td>\n",
       "      <td>non_reader</td>\n",
       "      <td>4.835059</td>\n",
       "      <td>1106</td>\n",
       "      <td>2.038206</td>\n",
       "      <td>4.154286</td>\n",
       "    </tr>\n",
       "    <tr>\n",
       "      <th>23</th>\n",
       "      <td>1</td>\n",
       "      <td>unknown</td>\n",
       "      <td>reader</td>\n",
       "      <td>7.552438</td>\n",
       "      <td>174</td>\n",
       "      <td>2.422491</td>\n",
       "      <td>5.868462</td>\n",
       "    </tr>\n",
       "  </tbody>\n",
       "</table>\n",
       "</div>"
      ],
      "text/plain": [
       "    variant_number   gender    user_type      mean  count       std        var\n",
       "0                0   female  contributor  7.142652    220  2.676451   7.163392\n",
       "1                0   female     new_user  2.822876    762  1.777076   3.157999\n",
       "2                0   female   non_reader  3.374448   7935  1.700659   2.892242\n",
       "3                0   female       reader  6.632086   1808  2.494685   6.223454\n",
       "4                0     male  contributor  8.492587    572  2.924966   8.555426\n",
       "5                0     male     new_user  2.955687   1132  1.840741   3.388328\n",
       "6                0     male   non_reader  3.537730  15178  1.666697   2.777879\n",
       "7                0     male       reader  7.015949   4079  2.611095   6.817815\n",
       "8                0  unknown  contributor  7.642702     93  3.170050  10.049217\n",
       "9                0  unknown     new_user  2.856120    477  1.878277   3.527926\n",
       "10               0  unknown   non_reader  3.415631   4329  1.677374   2.813585\n",
       "11               0  unknown       reader  6.667744    777  2.571137   6.610747\n",
       "12               1   female  contributor  7.844039     26  2.208249   4.876364\n",
       "13               1   female     new_user  4.464382    274  2.587578   6.695559\n",
       "14               1   female   non_reader  4.810470   1968  2.142444   4.590068\n",
       "15               1   female       reader  7.503789    331  2.141313   4.585221\n",
       "16               1     male  contributor  8.320709     79  2.506627   6.283178\n",
       "17               1     male     new_user  4.354160    369  2.472309   6.112312\n",
       "18               1     male   non_reader  4.998772   3920  1.973386   3.894253\n",
       "19               1     male       reader  7.746163    744  2.221167   4.933583\n",
       "20               1  unknown  contributor  7.284756     19  2.823186   7.970380\n",
       "21               1  unknown     new_user  4.471628    153  2.539061   6.446829\n",
       "22               1  unknown   non_reader  4.835059   1106  2.038206   4.154286\n",
       "23               1  unknown       reader  7.552438    174  2.422491   5.868462"
      ]
     },
     "execution_count": 163,
     "metadata": {},
     "output_type": "execute_result"
    }
   ],
   "source": [
    "stats3 = df3.groupby(['variant_number','gender','user_type'])['active_mins'].agg(['mean', 'count', 'std','var']).reset_index()\n",
    "stats3"
   ]
  },
  {
   "cell_type": "code",
   "execution_count": 167,
   "metadata": {},
   "outputs": [
    {
     "data": {
      "text/plain": [
       "12"
      ]
     },
     "execution_count": 167,
     "metadata": {},
     "output_type": "execute_result"
    }
   ],
   "source": [
    "covariates = [(a,b) for a in ugender for b in utypes]\n",
    "covariates\n",
    "len(covariates)"
   ]
  },
  {
   "cell_type": "code",
   "execution_count": 169,
   "metadata": {},
   "outputs": [],
   "source": [
    "def ci_covariates(stats,cov):\n",
    "    control = stats[(stats.variant_number==0) & (stats.gender==cov[0]) & (stats.user_type==cov[1])]\n",
    "    treat = stats[(stats.variant_number==1) & (stats.gender==cov[0]) & (stats.user_type==cov[1])]\n",
    "\n",
    "    sigma_dif = math.sqrt((control.iloc[0]['var']/control.iloc[0]['count'])+((treat.iloc[0]['var']/treat.iloc[0]['count'])))\n",
    "    upper = (treat.iloc[0]['mean']-control.iloc[0]['mean']) + (1.96 * sigma_dif)\n",
    "    lower = (treat.iloc[0]['mean']-control.iloc[0]['mean']) - (1.96 * sigma_dif)\n",
    "    return (lower,upper)"
   ]
  },
  {
   "cell_type": "code",
   "execution_count": 170,
   "metadata": {},
   "outputs": [
    {
     "name": "stdout",
     "output_type": "stream",
     "text": [
      "('female', 'contributor') ---> (-0.2181710324317161, 1.6209454206671288)\n",
      "('female', 'new_user') ---> (1.3101518625750066, 1.9728603216581513)\n",
      "('female', 'non_reader') ---> (1.3342376926849375, 1.5378077703842925)\n",
      "('female', 'reader') ---> (0.613943688075681, 1.1294617876307897)\n",
      "('male', 'contributor') ---> (-0.7743697022060778, 0.43061390495753704)\n",
      "('male', 'new_user') ---> (1.1243689244004251, 1.6725771584888394)\n",
      "('male', 'non_reader') ---> (1.3938146345782447, 1.5282684611886996)\n",
      "('male', 'reader') ---> (0.5516221399068965, 0.9088071350362895)\n",
      "('unknown', 'contributor') ---> (-1.781544948687302, 1.0656539264384974)\n",
      "('unknown', 'new_user') ---> (1.179293254438179, 2.0517219238093998)\n",
      "('unknown', 'non_reader') ---> (1.2893264050791, 1.5495292036690422)\n",
      "('unknown', 'reader') ---> (0.48189251181388243, 1.2874962369534175)\n"
     ]
    }
   ],
   "source": [
    "for c in covariates:\n",
    "    inter = ci_covariates(stats3,c)\n",
    "    print(c, '--->', inter)"
   ]
  },
  {
   "cell_type": "code",
   "execution_count": null,
   "metadata": {},
   "outputs": [],
   "source": []
  }
 ],
 "metadata": {
  "kernelspec": {
   "display_name": "Python 3",
   "language": "python",
   "name": "python3"
  },
  "language_info": {
   "codemirror_mode": {
    "name": "ipython",
    "version": 3
   },
   "file_extension": ".py",
   "mimetype": "text/x-python",
   "name": "python",
   "nbconvert_exporter": "python",
   "pygments_lexer": "ipython3",
   "version": "3.7.0"
  }
 },
 "nbformat": 4,
 "nbformat_minor": 2
}
